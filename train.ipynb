{
 "cells": [
  {
   "cell_type": "code",
   "execution_count": 2,
   "metadata": {},
   "outputs": [],
   "source": [
    "from datasets import load_dataset"
   ]
  },
  {
   "cell_type": "code",
   "execution_count": 14,
   "metadata": {},
   "outputs": [],
   "source": [
    "raw_datasets = load_dataset(\"HuggingFaceH4/ultrachat_200k\")"
   ]
  },
  {
   "cell_type": "code",
   "execution_count": 15,
   "metadata": {},
   "outputs": [
    {
     "data": {
      "text/plain": [
       "DatasetDict({\n",
       "    train: Dataset({\n",
       "        features: ['prompt', 'prompt_id', 'messages'],\n",
       "        num_rows: 100\n",
       "    })\n",
       "    test: Dataset({\n",
       "        features: ['prompt', 'prompt_id', 'messages'],\n",
       "        num_rows: 100\n",
       "    })\n",
       "})"
      ]
     },
     "execution_count": 15,
     "metadata": {},
     "output_type": "execute_result"
    }
   ],
   "source": [
    "from datasets import DatasetDict\n",
    "\n",
    "indices = range(0, 100)\n",
    "dataset_dict = {\"train\": raw_datasets[\"train_sft\"].select(indices),\n",
    "                \"test\": raw_datasets[\"test_sft\"].select(indices)}\n",
    "\n",
    "raw_datasets = DatasetDict(dataset_dict)\n",
    "raw_datasets"
   ]
  },
  {
   "cell_type": "code",
   "execution_count": 22,
   "metadata": {},
   "outputs": [
    {
     "data": {
      "text/plain": [
       "\"These instructions apply to section-based themes (Responsive 6.0+, Retina 4.0+, Parallax 3.0+ Turbo 2.0+, Mobilia 5.0+). What theme version am I using?\\nOn your Collections pages & Featured Collections sections, you can easily show the secondary image of a product on hover by enabling one of the theme's built-in settings!\\nYour Collection pages & Featured Collections sections will now display the secondary product image just by hovering over that product image thumbnail.\\nDoes this feature apply to all sections of the theme or just specific ones as listed in the text material?\""
      ]
     },
     "execution_count": 22,
     "metadata": {},
     "output_type": "execute_result"
    }
   ],
   "source": [
    "example = raw_datasets[\"train\"][0]\n",
    "example[\"prompt\"]"
   ]
  },
  {
   "cell_type": "code",
   "execution_count": 7,
   "metadata": {},
   "outputs": [
    {
     "name": "stdout",
     "output_type": "stream",
     "text": [
      "user                :  These instructions apply to section-based themes (Responsive 6.0+, Retina 4.0+, Parallax 3.0+ Turbo 2.0+, Mobilia 5.0+). What theme version am I using?\n",
      "On your Collections pages & Featured Collections sections, you can easily show the secondary image of a product on hover by enabling one of the theme's built-in settings!\n",
      "Your Collection pages & Featured Collections sections will now display the secondary product image just by hovering over that product image thumbnail.\n",
      "Does this feature apply to all sections of the theme or just specific ones as listed in the text material?\n",
      "assistant           :  This feature only applies to Collection pages and Featured Collections sections of the section-based themes listed in the text material.\n",
      "user                :  Can you guide me through the process of enabling the secondary image hover feature on my Collection pages and Featured Collections sections?\n",
      "assistant           :  Sure, here are the steps to enable the secondary image hover feature on your Collection pages and Featured Collections sections:\n",
      "\n",
      "1. Log in to your Shopify account and go to your Online Store.\n",
      "2. Click on Customize theme for the section-based theme you are using.\n",
      "3. Navigate to the Collection pages or Featured Collections section where you want to enable the secondary image hover feature.\n",
      "4. With the section open, click on the section's setting (gear) icon in the top-left corner.\n",
      "5. In the settings panel that appears, look for an option labeled 'Image display' or 'Image hover'.\n",
      "6. If available, select 'Show secondary image on hover'.\n",
      "7. Save the changes and preview the Collection/Featured Collection page to see the effect.\n",
      "\n",
      "If you're having trouble finding the setting, the best thing to do is refer to your theme's documentation, since the location and labeling of settings can vary between themes.\n",
      "user                :  Can you provide me with a link to the documentation for my theme?\n",
      "assistant           :  I don't have access to your store's theme information. However, you can usually find the documentation for your theme by going to the shopify theme store, finding your theme and clicking on the 'support' link located in the bottom right corner of the page. Alternatively, you can do a google search for the name of your theme followed by 'documentation' or 'user guide'.\n",
      "user                :  Can you confirm if this feature also works for the Quick Shop section of my theme?\n",
      "assistant           :  The secondary image hover feature may or may not work for your Quick Shop section, depending on the configuration of your theme. Some themes include this feature in the Quick Shop section by default, while others may require additional customization. To check if this feature is available for the Quick Shop section of your theme, follow these steps:\n",
      "\n",
      "1. Go to the Quick Shop section where you would like to enable the feature. 2. Click on the Quick Shop settings icon (gear icon) and look for 'Image display' or 'Image hover'. 3. If available, select 'Show secondary image on hover'. 4. Save the changes. If this option is not available in your Quick Shop section settings, you may need to reach out to your theme developer for assistance with customizing your Quick Shop section to include this feature.\n"
     ]
    }
   ],
   "source": [
    "messages = example[\"messages\"]\n",
    "for message in messages:\n",
    "  role = message[\"role\"]\n",
    "  content = message[\"content\"]\n",
    "  print('{0:20}:  {1}'.format(role, content))"
   ]
  },
  {
   "cell_type": "code",
   "execution_count": 8,
   "metadata": {},
   "outputs": [
    {
     "name": "stderr",
     "output_type": "stream",
     "text": [
      "tokenizer_config.json: 100%|██████████| 967/967 [00:00<00:00, 3.87MB/s]\n",
      "tokenizer.model: 100%|██████████| 493k/493k [00:00<00:00, 8.27MB/s]\n",
      "tokenizer.json: 100%|██████████| 1.80M/1.80M [00:00<00:00, 13.5MB/s]\n",
      "special_tokens_map.json: 100%|██████████| 72.0/72.0 [00:00<00:00, 218kB/s]\n"
     ]
    }
   ],
   "source": [
    "from transformers import AutoTokenizer\n",
    "\n",
    "model_id = \"mistralai/Mistral-7B-v0.1\"\n",
    "\n",
    "tokenizer = AutoTokenizer.from_pretrained(model_id)\n",
    "\n",
    "# set pad_token_id equal to the eos_token_id if not set\n",
    "if tokenizer.pad_token_id is None:\n",
    "  tokenizer.pad_token_id = tokenizer.eos_token_id\n",
    "\n",
    "# Set reasonable default for models without max length\n",
    "if tokenizer.model_max_length > 100_000:\n",
    "  tokenizer.model_max_length = 2048\n",
    "\n",
    "# Set chat template\n",
    "DEFAULT_CHAT_TEMPLATE = \"{% for message in messages %}\\n{% if message['role'] == 'user' %}\\n{{ '<|user|>\\n' + message['content'] + eos_token }}\\n{% elif message['role'] == 'system' %}\\n{{ '<|system|>\\n' + message['content'] + eos_token }}\\n{% elif message['role'] == 'assistant' %}\\n{{ '<|assistant|>\\n'  + message['content'] + eos_token }}\\n{% endif %}\\n{% if loop.last and add_generation_prompt %}\\n{{ '<|assistant|>' }}\\n{% endif %}\\n{% endfor %}\"\n",
    "tokenizer.chat_template = DEFAULT_CHAT_TEMPLATE"
   ]
  },
  {
   "cell_type": "code",
   "execution_count": 9,
   "metadata": {},
   "outputs": [
    {
     "name": "stderr",
     "output_type": "stream",
     "text": [
      "Applying chat template (num_proc=12): 100%|██████████| 100/100 [00:00<00:00, 112.26 examples/s]\n",
      "Applying chat template (num_proc=12): 100%|██████████| 100/100 [00:00<00:00, 123.86 examples/s]"
     ]
    },
    {
     "name": "stdout",
     "output_type": "stream",
     "text": [
      "Sample 58 of the processed training set:\n",
      "\n",
      "<|system|>\n",
      "</s>\n",
      "<|user|>\n",
      "Can you recommend any other minimalist towel shelves that are suitable for wet environments? Answer according to: If you require a traditional but minimalist shelf to store your towels, then our Options Traditional Towel Shelf is the perfect solution. It has an upper shelf for stacking your towels plus an additional rail underneath for hanging additional towels ready for use. This will be fine in a wet room. I would advise you to wipe any excess moisture when required Tony. Please could you assure me that it will not rust in a very steamy bathroom? Please also indicate its weight. Providing that there is the correct due care and attention paid to this item Chrissy, there will be no rust on this. The weight is approximately 1.8 kg. Please tell me the exact distance between the screws. Also, how many screws are there? Hi Keith, the distance between the screws is 170mm, there are 4 screws in total.</s>\n",
      "<|assistant|>\n",
      "Can you recommend any other minimalist towel shelves that are suitable for wet environments? We would recommend the Arblu FLOW towel shelf as another minimalist option for a wet environment. It is made of durable materials that are resistant to water and rust, and has a sleek and modern design that will complement any bathroom decor. It also features a top shelf for stacking towels and a lower rail for hanging towels, similar to our Options Traditional Towel Shelf.</s>\n",
      "<|user|>\n",
      "Thanks for recommending the Arblu FLOW towel shelf. Can you please tell me its weight and the distance between the screws?</s>\n",
      "<|assistant|>\n",
      "The weight of the Arblu FLOW towel shelf is 2.6 kg. The distance between the screws for this towel shelf is 200mm.</s>\n",
      "\n",
      "Sample 61 of the processed training set:\n",
      "\n",
      "<|system|>\n",
      "</s>\n",
      "<|user|>\n",
      "What kind of collaborative work is expected of the Art Teacher at The School of Arts and Sciences?\n",
      "Generate according to: The School of Arts and Sciences, at 3208 Thomasville Rd, Tallahassee, FL is seeking applications for a Kindergarten-8th grade Art Teacher to teach in a multi-aged classroom. Applicants should be able to plan and execute rigorous, teacher created, hands-on thematic and project based lessons. They will also implement and support instruction and assessment practices for a diverse group of students that reflect the Florida Standards and the principles of their Charter. Also, they will work collaboratively with a diverse group of school colleagues, parents, community members and others to support and implement the goals of the school. Portfolio assessment experience. Salary and benefits commensurate with education and experience; eligible for benefits.\n",
      "If interested, please submit a resume and cover letter with SAST ART TEACHER in the subject line by May 11, 2018 to Eirin Lombardo, Principal at lombardoe@leonschools.net.</s>\n",
      "<|assistant|>\n",
      "As an Art Teacher at The School of Arts and Sciences, the successful applicant is expected to work collaboratively with a diverse group of school colleagues, parents, community members, and others. This includes working with other teachers and staff to integrate art into other subjects such as history, literature, and science. The applicant should also be able to participate in meetings and professional development activities that aim to improve instruction for students.\n",
      "\n",
      "The Art Teacher is expected to create and deliver rigorous, teacher-created, hands-on thematic and project-based lessons that reflect the Florida Standards and the principles of the school’s Charter. The successful applicant should be able to plan and execute lessons that are appropriate for a multi-aged classroom that includes Kindergarten to 8th grade students. They should be able to use various techniques, tools, and materials to develop students’ artistic abilities.\n",
      "\n",
      "The Art Teacher should also have experience in portfolio assessment and be able to implement and support instruction and assessment practices for a diverse group of students. They should be able to provide feedback to students on their artwork and help them reflect on their growth and development.\n",
      "\n",
      "In summary, the Art Teacher at The School of Arts and Sciences is expected to work collaboratively, plan and deliver rigorous, hands-on lessons, support instruction and assessment practices, work with a diverse group of students, and have experience in portfolio assessment.</s>\n",
      "<|user|>\n",
      "Can you give me some examples of how the Art Teacher at The School of Arts and Sciences can integrate art into other subjects?</s>\n",
      "<|assistant|>\n",
      "Certainly! Here are some examples of how the Art Teacher at The School of Arts and Sciences can integrate art into other subjects:\n",
      "\n",
      "1. History - The Art Teacher can teach students about a specific historical period and then have them create artwork that reflects the time period. For example, students could create Egyptian hieroglyphs or Greek pottery.\n",
      "\n",
      "2. Literature - The Art Teacher can have students create artwork based on a book they have read. For example, students could create a painting or sculpture based on characters from a book.\n",
      "\n",
      "3. Science - The Art Teacher can have students create artwork that reflects scientific concepts. For example, students could create a sculpture of an atom or create an ecosystem painting.\n",
      "\n",
      "4. Mathematics - The Art Teacher can teach students the principles of symmetry and have them create symmetrical artwork. For example, students could create a symmetrical mandala.\n",
      "\n",
      "5. Social Studies - The Art Teacher can have students create maps or globes to learn about geography. Students can also create posters or collages about different cultures.\n",
      "\n",
      "These are just a few examples, but there are many ways the Art Teacher can integrate art into other subjects to enhance students’ learning.</s>\n",
      "\n",
      "Sample 15 of the processed training set:\n",
      "\n",
      "<|system|>\n",
      "</s>\n",
      "<|user|>\n",
      "Provide a step-by-step recipe on how to make a rich and flavorful tomato soup from scratch, including how to choose and prepare the ingredients, the proper order of steps, cooking times, and recommended garnishes or toppings to enhance the taste and presentation.</s>\n",
      "<|assistant|>\n",
      "Ingredients:\n",
      "-2 tbsp. Olive oil\n",
      "-1 onion, chopped\n",
      "-2-3 garlic cloves, minced\n",
      "-4 cups fresh tomatoes, chopped\n",
      "-1 cup broth (vegetable or chicken)\n",
      "-1 tsp. Salt\n",
      "-1 tsp. Black pepper\n",
      "-½ cup cream, room temperature\n",
      "-Fresh basil and croutons (optional)\n",
      "\n",
      "Instructions:\n",
      "\n",
      "1. Heat the olive oil in a pot over medium heat. Add the onions and garlic and sauté for 3-5 minutes until soft and translucent.\n",
      "\n",
      "2. Add the chopped tomatoes to the pot and stir well to combine with the onions and garlic.\n",
      "\n",
      "3. Pour in the broth and stir. Cover and let simmer for 10-15 minutes until the tomatoes have softened and have released their liquid.\n",
      "\n",
      "4. Use an immersion blender or transfer the mixture to a blender and puree until smooth.\n",
      "\n",
      "5. Return the soup to the pot and add the salt and black pepper. Taste and adjust seasoning as needed.\n",
      "\n",
      "6. Stir in the cream and mix well. Allow the soup to cook for an additional 3-5 minutes until heated through.\n",
      "\n",
      "7. Serve hot with chopped fresh basil and croutons as a garnish (if desired) and enjoy!\n",
      "\n",
      "Notes:\n",
      "\n",
      "-Choose ripe, juicy tomatoes for the best flavor.\n",
      "-Use vegetable broth for a vegan-friendly option.\n",
      "-For a thicker, creamier soup, use more cream or add a can of tomato sauce to the mixture.\n",
      "-Leftovers can be stored in the fridge for up to 3 days or frozen for later use.</s>\n",
      "<|user|>\n",
      "Thanks for the recipe on how to make tomato soup from scratch. Can you please suggest some variations that I can add to my soup to make it even more flavorful?</s>\n",
      "<|assistant|>\n",
      "Certainly! Here are a few variations you can try to enhance the flavor of your tomato soup:\n",
      "\n",
      "1. Roasted Vegetables: Roasting additional vegetables like bell peppers, carrots or celery alongside the tomatoes before pureeing them will add a lovely depth of flavor to your soup.\n",
      "\n",
      "2. Spices: Add extra flavors and a bit of heat by adding spices like cumin, coriander, smoked paprika, or a pinch of cayenne pepper.\n",
      "\n",
      "3. Cheese: Incorporate grated Parmesan or cheddar cheese into the soup once it’s heated to add a rich and creamy texture.\n",
      "\n",
      "4. Herbs: Fresh herbs like thyme, rosemary or oregano can be added to your soup at the end of cooking to add depth and aroma.\n",
      "\n",
      "5. Bacon: Dice and cook some bacon until it's crispy, then sprinkle it on top of the soup for an added crunch and smoky flavor.\n",
      "\n",
      "6. Coconut milk: Instead of cream, add coconut milk to impart a sweet, tropical flavor that pairs well with the acidity of tomatoes.\n",
      "\n",
      "7. Croutons: Top your soup with homemade garlic croutons or store-bought croutons for a satisfying crunch.\n",
      "\n",
      "Hope this helps!</s>\n",
      "<|user|>\n",
      "Those are some great ideas. Can you recommend a specific type of cheese that goes well with tomato soup? Also, do you have any tips for making homemade croutons?</s>\n",
      "<|assistant|>\n",
      "Certainly! Some of the best cheese options to pair with tomato soup include grated Parmesan, sharp cheddar, crumbled feta, or creamy goat cheese. These can add a slight tangy or salty flavor to the soup and can make it even more delicious. Here are some tips for making homemade croutons: \n",
      "1. Start with day-old bread or fresh bread that has been left out to dry for a few hours. 2. Cut your bread into cubes (about 1 inch) and toss them with olive oil and any desired seasonings like garlic powder or Italian seasoning. 3. Spread the bread evenly on a baking sheet and bake at 350°F for 10-15 minutes, or until they are golden brown and crispy. 4. Let the croutons cool and store them in an airtight container for up to a week. I hope you find these tips helpful! Enjoy your soup!</s>\n",
      "\n"
     ]
    },
    {
     "name": "stderr",
     "output_type": "stream",
     "text": [
      "\n"
     ]
    }
   ],
   "source": [
    "import re\n",
    "import random\n",
    "from multiprocessing import cpu_count\n",
    "\n",
    "def apply_chat_template(example, tokenizer):\n",
    "    messages = example[\"messages\"]\n",
    "    # We add an empty system message if there is none\n",
    "    if messages[0][\"role\"] != \"system\":\n",
    "        messages.insert(0, {\"role\": \"system\", \"content\": \"\"})\n",
    "    example[\"text\"] = tokenizer.apply_chat_template(messages, tokenize=False)\n",
    "\n",
    "    return example\n",
    "\n",
    "column_names = list(raw_datasets[\"train\"].features)\n",
    "raw_datasets = raw_datasets.map(apply_chat_template,\n",
    "                                num_proc=cpu_count(),\n",
    "                                fn_kwargs={\"tokenizer\": tokenizer},\n",
    "                                remove_columns=column_names,\n",
    "                                desc=\"Applying chat template\",)\n",
    "\n",
    "# create the splits\n",
    "train_dataset = raw_datasets[\"train\"]\n",
    "eval_dataset = raw_datasets[\"test\"]\n",
    "\n",
    "for index in random.sample(range(len(raw_datasets[\"train\"])), 3):\n",
    "  print(f\"Sample {index} of the processed training set:\\n\\n{raw_datasets['train'][index]['text']}\")"
   ]
  },
  {
   "cell_type": "code",
   "execution_count": 10,
   "metadata": {},
   "outputs": [
    {
     "data": {
      "text/plain": [
       "DatasetDict({\n",
       "    train: Dataset({\n",
       "        features: ['text'],\n",
       "        num_rows: 100\n",
       "    })\n",
       "    test: Dataset({\n",
       "        features: ['text'],\n",
       "        num_rows: 100\n",
       "    })\n",
       "})"
      ]
     },
     "execution_count": 10,
     "metadata": {},
     "output_type": "execute_result"
    }
   ],
   "source": [
    "raw_datasets"
   ]
  }
 ],
 "metadata": {
  "interpreter": {
   "hash": "0d5bf2fd9e86b5d2c8adef918d146cc04bc7de8e2b0aaa39d610905b5bf3bc85"
  },
  "kernelspec": {
   "display_name": "Python 3.10.13 ('slackbot')",
   "language": "python",
   "name": "python3"
  },
  "language_info": {
   "codemirror_mode": {
    "name": "ipython",
    "version": 3
   },
   "file_extension": ".py",
   "mimetype": "text/x-python",
   "name": "python",
   "nbconvert_exporter": "python",
   "pygments_lexer": "ipython3",
   "version": "3.10.13"
  },
  "orig_nbformat": 4
 },
 "nbformat": 4,
 "nbformat_minor": 2
}
